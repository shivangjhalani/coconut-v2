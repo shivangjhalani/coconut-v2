{
 "cells": [
  {
   "cell_type": "code",
   "execution_count": null,
   "id": "1395e113-10ee-43e9-8182-6b0a2cbd1734",
   "metadata": {},
   "outputs": [],
   "source": [
    "!pip install -r requirements-my.txt"
   ]
  },
  {
   "cell_type": "code",
   "execution_count": null,
   "id": "97890d6c-d989-425f-84c9-da03bf663464",
   "metadata": {},
   "outputs": [],
   "source": [
    "import wandb\n",
    "wandb.login()"
   ]
  },
  {
   "cell_type": "code",
   "execution_count": null,
   "id": "7c8cd39f-e68d-45d5-a743-58e6b5fcb9a2",
   "metadata": {},
   "outputs": [],
   "source": [
    "# TRAIN\n",
    "!torchrun --nnodes 1 --nproc_per_node 1 run.py args/prosqa_coconut.yaml"
   ]
  },
  {
   "cell_type": "code",
   "execution_count": null,
   "id": "4551b5bb-caf4-4424-9b9c-a40949c0e9d7",
   "metadata": {},
   "outputs": [],
   "source": [
    "#Find the checkpoint with best validation accuracy, and put the path as `load_model_path` in [args/prosqa_coconut_eval.yaml](args/prosqa_coconut_eval.yaml)."
   ]
  },
  {
   "cell_type": "code",
   "execution_count": null,
   "id": "70442a3f-4484-4c4a-9325-a3f897ea32b1",
   "metadata": {},
   "outputs": [],
   "source": [
    "# EVAL\n",
    "!torchrun --nnodes 1 --nproc_per_node 4 run.py args/prosqa_coconut_eval.yaml"
   ]
  }
 ],
 "metadata": {
  "kernelspec": {
   "display_name": "Python 3 (ipykernel)",
   "language": "python",
   "name": "python3"
  },
  "language_info": {
   "codemirror_mode": {
    "name": "ipython",
    "version": 3
   },
   "file_extension": ".py",
   "mimetype": "text/x-python",
   "name": "python",
   "nbconvert_exporter": "python",
   "pygments_lexer": "ipython3",
   "version": "3.10.13"
  }
 },
 "nbformat": 4,
 "nbformat_minor": 5
}
