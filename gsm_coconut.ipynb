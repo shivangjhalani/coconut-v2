{
 "cells": [
  {
   "cell_type": "code",
   "execution_count": null,
   "metadata": {},
   "outputs": [],
   "source": [
    "!chmod +x preprocessing/gsm_icot.bash\n",
    "!preprocessing/gsm_icot.bash"
   ]
  },
  {
   "cell_type": "code",
   "execution_count": null,
   "metadata": {},
   "outputs": [],
   "source": [
    "!pip install -r requirements-my.txt"
   ]
  },
  {
   "cell_type": "code",
   "execution_count": null,
   "metadata": {},
   "outputs": [],
   "source": [
    "import wandb\n",
    "wandb.login()"
   ]
  },
  {
   "cell_type": "code",
   "execution_count": 4,
   "metadata": {},
   "outputs": [
    {
     "name": "stdout",
     "output_type": "stream",
     "text": [
      "2025-06-22 17:18:00.917418: I tensorflow/core/util/port.cc:153] oneDNN custom operations are on. You may see slightly different numerical results due to floating-point round-off errors from different computation orders. To turn them off, set the environment variable `TF_ENABLE_ONEDNN_OPTS=0`.\n",
      "2025-06-22 17:18:00.924427: E external/local_xla/xla/stream_executor/cuda/cuda_fft.cc:467] Unable to register cuFFT factory: Attempting to register factory for plugin cuFFT when one has already been registered\n",
      "WARNING: All log messages before absl::InitializeLog() is called are written to STDERR\n",
      "E0000 00:00:1750592880.932874 4117129 cuda_dnn.cc:8579] Unable to register cuDNN factory: Attempting to register factory for plugin cuDNN when one has already been registered\n",
      "E0000 00:00:1750592880.935438 4117129 cuda_blas.cc:1407] Unable to register cuBLAS factory: Attempting to register factory for plugin cuBLAS when one has already been registered\n",
      "W0000 00:00:1750592880.942164 4117129 computation_placer.cc:177] computation placer already registered. Please check linkage and avoid linking the same target more than once.\n",
      "W0000 00:00:1750592880.942173 4117129 computation_placer.cc:177] computation placer already registered. Please check linkage and avoid linking the same target more than once.\n",
      "W0000 00:00:1750592880.942174 4117129 computation_placer.cc:177] computation placer already registered. Please check linkage and avoid linking the same target more than once.\n",
      "W0000 00:00:1750592880.942175 4117129 computation_placer.cc:177] computation placer already registered. Please check linkage and avoid linking the same target more than once.\n",
      "2025-06-22 17:18:00.944171: I tensorflow/core/platform/cpu_feature_guard.cc:210] This TensorFlow binary is optimized to use available CPU instructions in performance-critical operations.\n",
      "To enable the following instructions: AVX2 AVX_VNNI FMA, in other operations, rebuild TensorFlow with the appropriate compiler flags.\n",
      "Config: {'project': 'coconut', 'save_path': 'checkpoints', 'name': 'gsm-cot', 'only_eval': False, 'coconut': False, 'cot': True, 'no_thoughts': False, 'no_cot': False, 'c_thought': 0, 'epochs_per_stage': 1, 'max_latent_stage': 0, 'pad_latent_to_max': True, 'save_only_improve': True, 'uniform_prob': 0.0, 'model_id': 'openai-community/gpt2', 'load_model_path': 'None', 'seed': 0, 'resume': 0, 'bf16': True, 'train_path': 'data/gsm_train.json', 'val_path': 'data/gsm_valid.json', 'reset_optimizer': False, 'batch_size_training': 32, 'debug': False, 'gradient_accumulation_steps': 1, 'num_epochs': 25, 'lr': 0.0001, 'weight_decay': 0.01}\n",
      "[rank0]:[W622 17:18:02.086800068 ProcessGroupNCCL.cpp:4561] [PG ID 0 PG GUID 0 Rank 0]  using GPU 0 to perform barrier as devices used by this process are currently unknown. This can potentially cause a hang if this rank to GPU mapping is incorrect. Specify device_ids in barrier() to force use of a particular device, or call init_process_group() with a device_id.\n",
      "^C\n",
      "W0622 17:18:02.792000 4117083 torch/distributed/elastic/agent/server/api.py:719] Received Signals.SIGINT death signal, shutting down workers\n",
      "W0622 17:18:02.792000 4117083 torch/distributed/elastic/multiprocessing/api.py:897] Sending process 4117129 closing signal SIGINT\n",
      "[rank0]: Traceback (most recent call last):\n",
      "[rank0]:   File \"/home/ccbd/aaloogobi/coconut-v2/run.py\", line 657, in <module>\n",
      "[rank0]:     main()\n",
      "[rank0]:   File \"/home/ccbd/aaloogobi/coconut-v2/run.py\", line 146, in main\n",
      "[rank0]:     model = AutoModelForCausalLM.from_pretrained(configs.model_id)\n",
      "[rank0]:   File \"/home/ccbd/.local/lib/python3.10/site-packages/transformers/models/auto/auto_factory.py\", line 487, in from_pretrained\n",
      "[rank0]:     resolved_config_file = cached_file(\n",
      "[rank0]:   File \"/home/ccbd/.local/lib/python3.10/site-packages/transformers/utils/hub.py\", line 403, in cached_file\n",
      "[rank0]:     resolved_file = hf_hub_download(\n",
      "[rank0]:   File \"/home/ccbd/.local/lib/python3.10/site-packages/huggingface_hub/utils/_validators.py\", line 114, in _inner_fn\n",
      "[rank0]:     return fn(*args, **kwargs)\n",
      "[rank0]:   File \"/home/ccbd/.local/lib/python3.10/site-packages/huggingface_hub/file_download.py\", line 862, in hf_hub_download\n",
      "[rank0]:     return _hf_hub_download_to_cache_dir(\n",
      "[rank0]:   File \"/home/ccbd/.local/lib/python3.10/site-packages/huggingface_hub/file_download.py\", line 925, in _hf_hub_download_to_cache_dir\n",
      "[rank0]:     (url_to_download, etag, commit_hash, expected_size, head_call_error) = _get_metadata_or_catch_error(\n",
      "[rank0]:   File \"/home/ccbd/.local/lib/python3.10/site-packages/huggingface_hub/file_download.py\", line 1376, in _get_metadata_or_catch_error\n",
      "[rank0]:     metadata = get_hf_file_metadata(\n",
      "[rank0]:   File \"/home/ccbd/.local/lib/python3.10/site-packages/huggingface_hub/utils/_validators.py\", line 114, in _inner_fn\n",
      "[rank0]:     return fn(*args, **kwargs)\n",
      "[rank0]:   File \"/home/ccbd/.local/lib/python3.10/site-packages/huggingface_hub/file_download.py\", line 1296, in get_hf_file_metadata\n",
      "[rank0]:     r = _request_wrapper(\n",
      "[rank0]:   File \"/home/ccbd/.local/lib/python3.10/site-packages/huggingface_hub/file_download.py\", line 280, in _request_wrapper\n",
      "[rank0]:     response = _request_wrapper(\n",
      "[rank0]:   File \"/home/ccbd/.local/lib/python3.10/site-packages/huggingface_hub/file_download.py\", line 303, in _request_wrapper\n",
      "[rank0]:     response = get_session().request(method=method, url=url, **params)\n",
      "[rank0]:   File \"/home/ccbd/.local/lib/python3.10/site-packages/requests/sessions.py\", line 589, in request\n",
      "[rank0]:     resp = self.send(prep, **send_kwargs)\n",
      "[rank0]:   File \"/home/ccbd/.local/lib/python3.10/site-packages/requests/sessions.py\", line 703, in send\n",
      "[rank0]:     r = adapter.send(request, **kwargs)\n",
      "[rank0]:   File \"/home/ccbd/.local/lib/python3.10/site-packages/huggingface_hub/utils/_http.py\", line 96, in send\n",
      "[rank0]:     return super().send(request, *args, **kwargs)\n",
      "[rank0]:   File \"/home/ccbd/.local/lib/python3.10/site-packages/requests/adapters.py\", line 667, in send\n",
      "[rank0]:     resp = conn.urlopen(\n",
      "[rank0]:   File \"/home/ccbd/.local/lib/python3.10/site-packages/urllib3/connectionpool.py\", line 787, in urlopen\n",
      "[rank0]:     response = self._make_request(\n",
      "[rank0]:   File \"/home/ccbd/.local/lib/python3.10/site-packages/urllib3/connectionpool.py\", line 534, in _make_request\n",
      "[rank0]:     response = conn.getresponse()\n",
      "[rank0]:   File \"/home/ccbd/.local/lib/python3.10/site-packages/urllib3/connection.py\", line 516, in getresponse\n",
      "[rank0]:     httplib_response = super().getresponse()\n",
      "[rank0]:   File \"/usr/lib/python3.10/http/client.py\", line 1375, in getresponse\n",
      "[rank0]:     response.begin()\n",
      "[rank0]:   File \"/usr/lib/python3.10/http/client.py\", line 318, in begin\n",
      "[rank0]:     version, status, reason = self._read_status()\n",
      "[rank0]:   File \"/usr/lib/python3.10/http/client.py\", line 279, in _read_status\n",
      "[rank0]:     line = str(self.fp.readline(_MAXLINE + 1), \"iso-8859-1\")\n",
      "[rank0]:   File \"/usr/lib/python3.10/socket.py\", line 705, in readinto\n",
      "[rank0]:     return self._sock.recv_into(b)\n",
      "[rank0]:   File \"/usr/lib/python3.10/ssl.py\", line 1303, in recv_into\n",
      "[rank0]:     return self.read(nbytes, buffer)\n",
      "[rank0]:   File \"/usr/lib/python3.10/ssl.py\", line 1159, in read\n",
      "[rank0]:     return self._sslobj.read(len, buffer)\n",
      "[rank0]: KeyboardInterrupt\n"
     ]
    }
   ],
   "source": [
    "!torchrun --nnodes 1 --nproc_per_node 1 run.py args/gsm_cot.yaml"
   ]
  },
  {
   "cell_type": "code",
   "execution_count": null,
   "metadata": {},
   "outputs": [],
   "source": [
    "!torchrun --nnodes 1 --nproc_per_node 1 run.py args/gsm_coconut.yaml"
   ]
  },
  {
   "cell_type": "code",
   "execution_count": null,
   "metadata": {},
   "outputs": [],
   "source": []
  }
 ],
 "metadata": {
  "kernelspec": {
   "display_name": "Python 3 (ipykernel)",
   "language": "python",
   "name": "python3"
  },
  "language_info": {
   "codemirror_mode": {
    "name": "ipython",
    "version": 3
   },
   "file_extension": ".py",
   "mimetype": "text/x-python",
   "name": "python",
   "nbconvert_exporter": "python",
   "pygments_lexer": "ipython3",
   "version": "3.10.12"
  }
 },
 "nbformat": 4,
 "nbformat_minor": 4
}
